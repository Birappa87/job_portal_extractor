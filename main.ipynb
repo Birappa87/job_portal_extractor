{
 "cells": [
  {
   "cell_type": "code",
   "execution_count": 17,
   "metadata": {},
   "outputs": [],
   "source": [
    "from bs4 import BeautifulSoup\n",
    "\n",
    "with open(\"sample.html\", \"r\", encoding=\"utf-8\") as file:\n",
    "    content = file.read()\n",
    "\n",
    "soup = BeautifulSoup(content, 'html.parser')"
   ]
  },
  {
   "cell_type": "code",
   "execution_count": 4,
   "metadata": {},
   "outputs": [],
   "source": [
    "import pandas as pd"
   ]
  },
  {
   "cell_type": "code",
   "execution_count": 9,
   "metadata": {},
   "outputs": [],
   "source": [
    "df = pd.read_csv(r\"C:\\Users\\birap\\Downloads\\2025-04-04_-_Worker_and_Temporary_Worker.csv\")"
   ]
  },
  {
   "cell_type": "code",
   "execution_count": 11,
   "metadata": {},
   "outputs": [
    {
     "data": {
      "text/html": [
       "<div>\n",
       "<style scoped>\n",
       "    .dataframe tbody tr th:only-of-type {\n",
       "        vertical-align: middle;\n",
       "    }\n",
       "\n",
       "    .dataframe tbody tr th {\n",
       "        vertical-align: top;\n",
       "    }\n",
       "\n",
       "    .dataframe thead th {\n",
       "        text-align: right;\n",
       "    }\n",
       "</style>\n",
       "<table border=\"1\" class=\"dataframe\">\n",
       "  <thead>\n",
       "    <tr style=\"text-align: right;\">\n",
       "      <th></th>\n",
       "      <th>Organisation Name</th>\n",
       "      <th>Town/City</th>\n",
       "      <th>County</th>\n",
       "      <th>Type &amp; Rating</th>\n",
       "      <th>Route</th>\n",
       "    </tr>\n",
       "  </thead>\n",
       "  <tbody>\n",
       "    <tr>\n",
       "      <th>0</th>\n",
       "      <td>McMullan Shellfish</td>\n",
       "      <td>Ballymena</td>\n",
       "      <td>Co Antrim</td>\n",
       "      <td>Worker (A rating)</td>\n",
       "      <td>Skilled Worker</td>\n",
       "    </tr>\n",
       "    <tr>\n",
       "      <th>1</th>\n",
       "      <td>(A1F1 Limited T/A ) Ultrasound Direct London</td>\n",
       "      <td>Croydon</td>\n",
       "      <td>London</td>\n",
       "      <td>Worker (A rating)</td>\n",
       "      <td>Skilled Worker</td>\n",
       "    </tr>\n",
       "    <tr>\n",
       "      <th>2</th>\n",
       "      <td>(IECC Care) Independent Excel Care Consortium ...</td>\n",
       "      <td>Colchester</td>\n",
       "      <td>NaN</td>\n",
       "      <td>Worker (A rating)</td>\n",
       "      <td>Skilled Worker</td>\n",
       "    </tr>\n",
       "    <tr>\n",
       "      <th>3</th>\n",
       "      <td>*ABOUTCARE HASTINGS LTD</td>\n",
       "      <td>East Sussex</td>\n",
       "      <td>NaN</td>\n",
       "      <td>Worker (A rating)</td>\n",
       "      <td>Skilled Worker</td>\n",
       "    </tr>\n",
       "    <tr>\n",
       "      <th>4</th>\n",
       "      <td>.LITTLE NOORIYAH LTD</td>\n",
       "      <td>Smethwick</td>\n",
       "      <td>NaN</td>\n",
       "      <td>Worker (A rating)</td>\n",
       "      <td>Skilled Worker</td>\n",
       "    </tr>\n",
       "  </tbody>\n",
       "</table>\n",
       "</div>"
      ],
      "text/plain": [
       "                                   Organisation Name    Town/City     County  \\\n",
       "0                                 McMullan Shellfish    Ballymena  Co Antrim   \n",
       "1       (A1F1 Limited T/A ) Ultrasound Direct London      Croydon     London   \n",
       "2  (IECC Care) Independent Excel Care Consortium ...   Colchester        NaN   \n",
       "3                            *ABOUTCARE HASTINGS LTD  East Sussex        NaN   \n",
       "4                               .LITTLE NOORIYAH LTD    Smethwick        NaN   \n",
       "\n",
       "       Type & Rating           Route  \n",
       "0  Worker (A rating)  Skilled Worker  \n",
       "1  Worker (A rating)  Skilled Worker  \n",
       "2  Worker (A rating)  Skilled Worker  \n",
       "3  Worker (A rating)  Skilled Worker  \n",
       "4  Worker (A rating)  Skilled Worker  "
      ]
     },
     "execution_count": 11,
     "metadata": {},
     "output_type": "execute_result"
    }
   ],
   "source": [
    "df.head()"
   ]
  },
  {
   "cell_type": "code",
   "execution_count": 15,
   "metadata": {},
   "outputs": [],
   "source": [
    "company_list = list(df['Organisation Name'])"
   ]
  },
  {
   "cell_type": "code",
   "execution_count": 19,
   "metadata": {},
   "outputs": [],
   "source": [
    "job_cards = soup.select(\"ol#searchResults li.results__item\")\n",
    "\n",
    "obs_on_page = []\n",
    "for job in job_cards:\n",
    "    section_element = job.find(\"article\")\n",
    "    title = section_element.get(\"data-job-title\", \"\")\n",
    "    company = section_element.get(\"data-company-name\", \"\")\n",
    "    location = section_element.get(\"data-job-location\", \"\")\n",
    "    salary = section_element.get(\"data-job-salary\", \"\")\n",
    "    job_type = section_element.get(\"data-job-type\", \"\")\n",
    "    date_posted = section_element.get(\"data-job-posted\", \"\")\n",
    "    job_id = section_element.get(\"data-job-id\", \"\")\n",
    "    job_url = f'https://www.cv-library.co.uk/job/{job_id}' if job_id else \"\"\n",
    "\n",
    "    company_logo_element = job.select_one(\"img.job__logo\")\n",
    "    company_logo = company_logo_element.get(\"src\", \"\") if company_logo_element else \"\"\n",
    "\n",
    "    if company in company_list:\n",
    "        obs_on_page.append({\n",
    "                        \"Title\": title,\n",
    "                        \"Company\": company,\n",
    "                        \"Location\": location,\n",
    "                        \"Salary\": salary,\n",
    "                        \"Job Type\": job_type,\n",
    "                        \"URL\": job_url,\n",
    "                        \"Date Posted\": date_posted,\n",
    "                        \"Company Logo\": company_logo\n",
    "                    })"
   ]
  },
  {
   "cell_type": "code",
   "execution_count": 20,
   "metadata": {},
   "outputs": [
    {
     "data": {
      "text/plain": [
       "[{'Title': 'Lead Traffic Signal Engineer',\n",
       "  'Company': 'Yunex Limited',\n",
       "  'Location': 'East Midlands',\n",
       "  'Salary': '',\n",
       "  'Job Type': '',\n",
       "  'URL': 'https://www.cv-library.co.uk/job/223298739',\n",
       "  'Date Posted': '',\n",
       "  'Company Logo': '/assets/images/placeholder-600x400-fdfdfd-ed7103c8d6c9f61d0cbb5e65611c40b8f2381a9233a1828193af8aa84a24f1cf.jpg'},\n",
       " {'Title': 'Healthcare Assistant - Deaf Service',\n",
       "  'Company': 'Elysium Healthcare',\n",
       "  'Location': 'OL8 4EF',\n",
       "  'Salary': '£25,058/yearly',\n",
       "  'Job Type': 'Permanent',\n",
       "  'URL': 'https://www.cv-library.co.uk/job/223306830',\n",
       "  'Date Posted': '2025-04-04T13:05:25Z',\n",
       "  'Company Logo': ''},\n",
       " {'Title': 'Senior Social Worker',\n",
       "  'Company': 'Elysium Healthcare',\n",
       "  'Location': 'WD6 1JN',\n",
       "  'Salary': '£42,372/yearly',\n",
       "  'Job Type': 'Permanent',\n",
       "  'URL': 'https://www.cv-library.co.uk/job/223306829',\n",
       "  'Date Posted': '2025-04-04T13:05:25Z',\n",
       "  'Company Logo': ''},\n",
       " {'Title': 'Supporter Services and Ticketing Admin Apprentice',\n",
       "  'Company': 'Brighton & Hove Albion Football Club',\n",
       "  'Location': 'Brighton',\n",
       "  'Salary': '£7.55/hour',\n",
       "  'Job Type': 'Permanent',\n",
       "  'URL': 'https://www.cv-library.co.uk/job/223306804',\n",
       "  'Date Posted': '2025-04-04T13:02:25Z',\n",
       "  'Company Logo': ''},\n",
       " {'Title': 'Forklift Engineer',\n",
       "  'Company': 'M4 Recruitment',\n",
       "  'Location': 'RG7, Ufton Nervet, West Berkshire',\n",
       "  'Salary': '£35,000 - £40,000/annum',\n",
       "  'Job Type': 'Permanent',\n",
       "  'URL': 'https://www.cv-library.co.uk/job/223008680',\n",
       "  'Date Posted': '2025-04-04T12:59:58Z',\n",
       "  'Company Logo': ''},\n",
       " {'Title': 'Sales Executive',\n",
       "  'Company': 'M4 Recruitment',\n",
       "  'Location': 'Theale, West Berkshire',\n",
       "  'Salary': '£24,000 - £26,000/annum Commission structure ',\n",
       "  'Job Type': 'Permanent',\n",
       "  'URL': 'https://www.cv-library.co.uk/job/223117848',\n",
       "  'Date Posted': '2025-04-04T12:59:58Z',\n",
       "  'Company Logo': ''},\n",
       " {'Title': 'Hvac Engineer',\n",
       "  'Company': 'M4 Recruitment',\n",
       "  'Location': 'RG7, Ufton Nervet, West Berkshire',\n",
       "  'Salary': '£40,000 - £47,000/annum',\n",
       "  'Job Type': 'Permanent',\n",
       "  'URL': 'https://www.cv-library.co.uk/job/223126045',\n",
       "  'Date Posted': '2025-04-04T12:59:57Z',\n",
       "  'Company Logo': ''},\n",
       " {'Title': 'Fire Alarm Engineer',\n",
       "  'Company': 'Total Integrated Solutions Limited',\n",
       "  'Location': 'NG18, Mansfield, Nottinghamshire',\n",
       "  'Salary': '£38,000 - £41,000/annum',\n",
       "  'Job Type': 'Permanent',\n",
       "  'URL': 'https://www.cv-library.co.uk/job/223306709',\n",
       "  'Date Posted': '2025-04-04T12:54:14Z',\n",
       "  'Company Logo': ''}]"
      ]
     },
     "execution_count": 20,
     "metadata": {},
     "output_type": "execute_result"
    }
   ],
   "source": [
    "obs_on_page"
   ]
  },
  {
   "cell_type": "code",
   "execution_count": 22,
   "metadata": {},
   "outputs": [
    {
     "name": "stdout",
     "output_type": "stream",
     "text": [
      "XML file 'jobs.xml' created successfully!\n"
     ]
    }
   ],
   "source": [
    "import json\n",
    "import xml.etree.ElementTree as ET\n",
    "\n",
    "# Load the JSON data\n",
    "with open(\"glassdoor_all_uk.json\", \"r\", encoding=\"utf-8\") as file:\n",
    "    jobs = json.load(file)\n",
    "\n",
    "# Create root element\n",
    "root = ET.Element(\"Jobs\")\n",
    "\n",
    "for job in jobs:\n",
    "    job_element = ET.SubElement(root, \"Job\")\n",
    "    \n",
    "    for key, value in job.items():\n",
    "        # Create a sub-element for each field (Title, Company, etc.)\n",
    "        child = ET.SubElement(job_element, key.replace(\" \", \"\"))\n",
    "        child.text = value if value else \"\"\n",
    "\n",
    "# Create the XML tree and write to file\n",
    "tree = ET.ElementTree(root)\n",
    "tree.write(\"glassdoor_all_uk.json.xml\", encoding=\"utf-8\", xml_declaration=True)\n",
    "\n",
    "print(\"XML file 'jobs.xml' created successfully!\")\n"
   ]
  },
  {
   "cell_type": "code",
   "execution_count": null,
   "metadata": {},
   "outputs": [],
   "source": []
  }
 ],
 "metadata": {
  "kernelspec": {
   "display_name": "Python 3",
   "language": "python",
   "name": "python3"
  },
  "language_info": {
   "codemirror_mode": {
    "name": "ipython",
    "version": 3
   },
   "file_extension": ".py",
   "mimetype": "text/x-python",
   "name": "python",
   "nbconvert_exporter": "python",
   "pygments_lexer": "ipython3",
   "version": "3.12.4"
  }
 },
 "nbformat": 4,
 "nbformat_minor": 2
}
