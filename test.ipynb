{
 "cells": [
  {
   "cell_type": "code",
   "execution_count": 2,
   "id": "d372264e",
   "metadata": {},
   "outputs": [],
   "source": [
    "import requests"
   ]
  },
  {
   "cell_type": "code",
   "execution_count": 3,
   "id": "b73be798",
   "metadata": {},
   "outputs": [],
   "source": [
    "cookies = {\n",
    "        'anonymousUserId': '54bafa4b-7ecd-9bec-fb09-e4fb65b60c74',\n",
    "        'VISITOR_ID': 'c2be550f9940928eb550d627cecd00f1',\n",
    "        'bm_sz': '02D148594D97D3ACCCC3B4374A95B63D~YAAQdAHARTMc50GWAQAAoCWJYxvq/H9NLib74uNYZcvStV+odCIE2tZQHn3zb/OL2+pV76kHZulTLXQmGfZxDAXiXYmGnu1nYbgI3+1YS5gjPefJktcATixyCsI+Cr3Ay5RR7w54YlegHnBTAECBuHlM40Ij0dwLKgnnrtPfg2jo2nYT0GUlVqSHUEe9dZO/rLvKhJg9YyIujrQhfO4Mn9zq7LtCWB7O+KC/LMNesC8JKozietZqsZ2SKA402aOg95pG96H4y6WgbjYlSmz32calZKZk/I5RknlCK0I1QbNf5qS1gMnGoqheAcx60f7opcr12x8nRUh4aLyn6STk3OWPNkqwoPkDdzTAi82zl1jc0FsGHFXym2TI1nK+lYE5XYgeJrah0m7exDchEnFi~4403521~4535863',\n",
    "        'optimizelySession': '1745426651660',\n",
    "        'RT': '\"z=1&dm=www.totaljobs.com&si=dbcd41f2-e862-4d01-8d0e-e86eeddee462&ss=m9u5ymji&sl=0&tt=0\"',\n",
    "        'sc_vid': '85365f049a602a427e99365c84a07324',\n",
    "        'listing_page__qualtrics': 'empty',\n",
    "        'AnonymousUser': 'MemberId=759c4cbe-209d-4791-ad59-c1d862a3f67b&IsAnonymous=True',\n",
    "        'SessionCookie': 'a61638c8-4964-4325-85f1-43d3d9ea2222',\n",
    "        'SsaSessionCookie': '08d6b32c-fdff-47a9-b13c-5d4d562f5138',\n",
    "        '_abck': '345880C05C88AD64AFAE1B4AD75482B2~0~YAAQdAHARUAc50GWAQAAqy2JYw1EAByyeMCcMXQTSgiFnPwxkSXEupi19aP/6l/KeodOH8nur2GFYeBqZWZ2LqfD+5ABqePwYmTTVbIdjUKytBVqauOCukjMVsSHSlBtKg+MDDOCEczUUomHYpK9CqeuaLLQi6dJQngOVKUGyUbVm5oV8TPG8Sd1WpuanJSDO5FOsn492w1BL1cnVsSDY1su18G/KU/9rbbRxuan1D9Ph5+/wPlf88qd3qQBt6FjxuDaCc04CV4QSHH7hO0mZWVGi+EnTUe7Rayo3MXymo3FWso1DhUnYC7G4//01GvfSiXlvAyL1MSegeH0yIIHG/C3GtzwgIiqlIr0i3N6YHgKLkgJXaKA+yxoLC+mIcSOeaIj7wm4d5ndMmRGBhcRoiCW1mh2OyU3M1TCu3n+58roGQGlNhP64FGem1yGZi2N6oGbLAZdtxKSX+6ViaLjwU9IWdO8GtPJMzaKGZIFmoBsEszKbePpnJCxqJ0NY5h91VUFubXwznXB17AlY82RBo8MyfkdbLtON+/9xmlrng==~-1~||0||~-1',\n",
    "        'EntryUrl': '/jobs/sponsorship/in-united-kingdom?salary=30000&salarytypeid=1&',\n",
    "        'SearchResults': '\"104773239,104740055,104707469,104695324,104678831,104601614,104521678,104695119,104561633,104742194,104737809,104737808,104722229,104634780,104634782,104634772,104634775,104634770,104629792,104676579,104676604,104676621,104676660,104568931,104655837\"',\n",
    "        'CONSENTMGR': 'c1:1%7Cc2:1%7Cc3:1%7Cc4:1%7Cc5:0%7Cc6:1%7Cc7:1%7Cc8:0%7Cc9:1%7Cc10:0%7Cc11:0%7Cc12:1%7Cc13:1%7Cc14:0%7Cc15:0%7Cts:1745426654906%7Cconsent:true',\n",
    "        'ak_bmsc': 'B3A79D6AF363ED8BC4F4413E298574F1~000000000000000000000000000000~YAAQdAHARUgc50GWAQAA+TSJYxtbqHyHp6YgLKTEI6k56aLIVPz+uBN6/lxAvEEcbnAR0nj0a9TIoC3+Xcp//xcPrslXfsnBNkExgEduQds0kFX0bGcbUEv17SWEb7LtPlcKlyPzGcOvj6rMDPJ1mGrGaJzD8wBpq5rJML5udxLybaJWXlwPikAmCOm2/6hyOTXoB4lwy3HJ24NMGTf0TAIpFip6i80D28vUBgxfFe4hIei2Ai+Lw0sunExrrn82clVESOtl2mJ3oOJBho12h1uer0vSuWqh0zAmSjFfVOb3ar2fvUAh91M2Nt2H1qcNGdA/2+g0DKiJx3e7Uy/ta8FgVDCowyRCI/enbMshUrWoQUbey/4qIunaU5OFAkcY5Wh+WJ6Un0izNjLqulEIKCoUjjfCdnGPAd2qf5LCq353Wxd11EvHN70ddMy8uYgvSeoxkSVuZAbIMSaLfON8',\n",
    "        '_fbp': 'fb.1.1745426656102.552846486146374068',\n",
    "        'utag_main': 'v_id:019663891adf000720adaf95a1e30506f005906700978$_sn:1$_se:4$_ss:0$_st:1745428455250$ses_id:1745426651874%3Bexp-session$_pn:1%3Bexp-session$PersistedFreshUserValue:0.1%3Bexp-session$prev_p:resultlist%3Bexp-session$dc_visit:1$dc_event:1%3Bexp-session$dc_region:eu-central-1%3Bexp-session',\n",
    "        '_uetsid': '31c3a820206211f0a0db23d3adf41216',\n",
    "        '_uetvid': 'b5fa0900188111f0af7a07bdcdc07c19',\n",
    "        '_gcl_au': '1.1.1525417813.1745426656',\n",
    "        '__rtbh.uid': '%7B%22eventType%22%3A%22uid%22%2C%22id%22%3A%22759c4cbe-209d-4791-ad59-c1d862a3f67b%22%2C%22expiryDate%22%3A%222026-04-23T16%3A44%3A16.501Z%22%7D',\n",
    "        '__rtbh.lid': '%7B%22eventType%22%3A%22lid%22%2C%22id%22%3A%22pwU7WZAJpJ1yjKLsMh5z%22%2C%22expiryDate%22%3A%222026-04-23T16%3A44%3A16.503Z%22%7D',\n",
    "        '_ga_F6MR9F9R5K': 'GS1.1.1745426651874.1.0.1745426656.0.0.0',\n",
    "        '_ga': 'GA1.1.111026824.1745426657',\n",
    "        '_clck': '1yzdi95%7C2%7Cfvb%7C0%7C1936',\n",
    "        'cto_bundle': 'TqUO1l81Y3MlMkIlMkJwNElISjE0S0VtR1BsRUZtQ052V08zUCUyQjRFZVZ5UnRMV3JvdWElMkJCekQ4ZVE1eE0wNHVUVyUyQkNteVVWUW1EcXhlZER0ck9FT25hY1hVMCUyQkh6NzZmOXRtSmRHUyUyQlYxV2R4UTF0cHBUSTNzYkREM1NHazlwa1ZObGdYRSUyRnRvZm8yOVFtdUdBV2ZIN2QlMkJsTlpuVUxIalVQU0JadUhwRiUyRk9Ed3NVZUpCZHclMkZDS0xCSzBCMXNZWDhOa3pKMWdOVmNVMDF5Zms3VVB6TU43SmRvbU5jTXRSMTZ3c1pnQjBvMmVKWU9MVTZJQURXUUwlMkJYWDRLTW9rWEhxU25vbnZRJTJGVjdyU3RxJTJCYXpaemhPOE5DYyUyQjFLQSUzRCUzRA',\n",
    "        '_hjSessionUser_2060791': 'eyJpZCI6ImFhNTg1NmE5LTEwMzAtNTU1Zi05MjhhLWRmZGEwY2I3Nzk5NCIsImNyZWF0ZWQiOjE3NDU0MjY2NTcyNTgsImV4aXN0aW5nIjp0cnVlfQ==',\n",
    "        '_hjSession_2060791': 'eyJpZCI6IjhkZWE0NTkyLTc2ODQtNDIxZS1hNDViLWM1Yjk3MDJiZjQ1YyIsImMiOjE3NDU0MjY2NTcyNjEsInMiOjEsInIiOjAsInNiIjowLCJzciI6MCwic2UiOjAsImZzIjoxLCJzcCI6MH0=',\n",
    "        '_dd_s': 'logs=1&id=734f9fa9-428a-4b49-96ef-dac4200ea061&created=1745426653411&expire=1745427555001',\n",
    "        '_clsk': 'feqk90%7C1745426657731%7C1%7C1%7Cd.clarity.ms%2Fcollect',\n",
    "    }\n",
    "headers = {\n",
    "        'accept': 'text/html,application/xhtml+xml,application/xml;q=0.9,image/avif,image/webp,image/apng,*/*;q=0.8,application/signed-exchange;v=b3;q=0.7',\n",
    "        'accept-language': 'en-GB,en-US;q=0.9,en;q=0.8,hi;q=0.7,kn;q=0.6',\n",
    "        'priority': 'u=0, i',\n",
    "        'referer': 'https://www.totaljobs.com/jobs/sponsorship/in-united-kingdom?salary=30000&salarytypeid=1&action=facet_selected%3bsalary%3b30000%3bsalarytypeid%3b1',\n",
    "        'sec-ch-ua': '\"Google Chrome\";v=\"135\", \"Not-A.Brand\";v=\"8\", \"Chromium\";v=\"135\"',\n",
    "        'sec-ch-ua-mobile': '?1',\n",
    "        'sec-ch-ua-platform': '\"Android\"',\n",
    "        'sec-fetch-dest': 'document',\n",
    "        'sec-fetch-mode': 'navigate',\n",
    "        'sec-fetch-site': 'same-origin',\n",
    "        'sec-fetch-user': '?1',\n",
    "        'upgrade-insecure-requests': '1',\n",
    "        'user-agent': 'Mozilla/5.0 (Linux; Android 6.0; Nexus 5 Build/MRA58N) AppleWebKit/537.36 (KHTML, like Gecko) Chrome/135.0.0.0 Mobile Safari/537.36',\n",
    "    }"
   ]
  },
  {
   "cell_type": "code",
   "execution_count": 51,
   "id": "fb191277",
   "metadata": {},
   "outputs": [],
   "source": [
    "response = requests.get(\n",
    "            f'https://www.totaljobs.com/jobs/sponsorship/in-united-kingdom?salary=30000&salarytypeid=1&page=1&action=facet_selected%3bsalary%3b30000%3bsalarytypeid%3b1',\n",
    "            cookies=cookies,\n",
    "            headers=headers,\n",
    "        )\n",
    "\n",
    "html_content = response.text"
   ]
  },
  {
   "cell_type": "code",
   "execution_count": 3,
   "id": "74c70a0e",
   "metadata": {},
   "outputs": [],
   "source": [
    "import json\n",
    "from bs4 import BeautifulSoup\n"
   ]
  },
  {
   "cell_type": "code",
   "execution_count": null,
   "id": "23b0b41f",
   "metadata": {},
   "outputs": [
    {
     "name": "stdout",
     "output_type": "stream",
     "text": [
      "{'id': 104773239, 'job_title': 'Licenced Aircraft Engineer - Visa Sponsorship Available', 'company_name': 'Future Engineering', 'company_logo': 'https://www.totaljobs.com/companylogos/892b0892babe4e7489248aea93bf85d9.png', 'salary': '£70000 - £76000 per annum + Benefits Package + Visa Sponsorship', 'posted_date': '2025-04-28T12:50:42.16', 'experience': None, 'location': 'EC1, City of London', 'apply_link': 'https://www.totaljobs.com/job/licenced-aircraft-engineer-visa-sponsorship-available/future-engineering-job104773239', 'description': 'London £76,000 + Benefits Package + Industry Leader + Overtime + Medical Care + Paid Travel + Training Provided + Pension + Immediate Start - This company prides themselves on safety, reliability, and exceptional service in the air. As they continue to expand and evolve, they are seeking a highly skilled and dedicated B1/B2 Licenced Aircraft Engineer to join our expert team. This is a fantastic opportunity for an individual with experience in aircraft maintenance and safety systems to work with a leading airline that offers excellent benefits, opportunities for professional development, and a supportive work environment. As a Licenced Aircraft Engineer, you will be responsible for performing maintenance on various types of aircraft, focusing on both safety systems and general aircraft maintenance.', 'data_source': 'totaljobs'}\n"
     ]
    }
   ],
   "source": [
    "\n",
    "soup = BeautifulSoup(html_content, 'html.parser')\n",
    "\n",
    "# Pattern to find JSON assignment inside script\n",
    "pattern = r'window\\.__PRELOADED_STATE__\\[\"[^\"]+\"\\]\\s*=\\s*({.*?});'\n",
    "\n",
    "# List to collect all extracted JSON objects\n",
    "extracted_data = []\n",
    "\n",
    "# Loop through all script tags\n",
    "for script in soup.find_all('script'):\n",
    "    if script.string and 'window.__PRELOADED_STATE__' in script.string:\n",
    "        matches = re.finditer(pattern, script.string, re.DOTALL)\n",
    "        for match in matches:\n",
    "            json_text = match.group(1)\n",
    "            try:\n",
    "                data = json.loads(json_text)\n",
    "                extracted_data.append(data)\n",
    "            except json.JSONDecodeError as e:\n",
    "                print(f\"JSON decoding error: {e}\")\n",
    "\n",
    "\n",
    "jobs = extracted_data[1]['searchResults']['items']\n",
    "base_url = \"https://www.totaljobs.com\"\n",
    "\n",
    "for job in jobs:\n",
    "    job_data = {\n",
    "        'id': job.get('id'),\n",
    "        'job_title': job.get('title'),\n",
    "        'company_name': job.get('companyName'),\n",
    "        'company_logo': job.get('companyLogoUrl'),\n",
    "        'salary': job.get('salary'),\n",
    "        'posted_date': job.get('datePosted'),\n",
    "        'experience': None,\n",
    "        'location': job.get('location'),\n",
    "        'apply_link': base_url + job.get('url', ''),\n",
    "        'description': job.get('textSnippet'),\n",
    "        'data_source': 'totaljobs'\n",
    "    }\n",
    "\n",
    "    print(job_data)\n",
    "    break"
   ]
  },
  {
   "cell_type": "code",
   "execution_count": 4,
   "id": "c9ccc71e",
   "metadata": {},
   "outputs": [],
   "source": [
    "id = \"job__description\"\n",
    "url = 'https://www.cv-library.co.uk/job/223374777/Geography-Teacher'\n",
    "\n",
    "response = requests.get(url)"
   ]
  },
  {
   "cell_type": "code",
   "execution_count": 5,
   "id": "4e157698",
   "metadata": {},
   "outputs": [
    {
     "data": {
      "text/plain": [
       "403"
      ]
     },
     "execution_count": 5,
     "metadata": {},
     "output_type": "execute_result"
    }
   ],
   "source": [
    "response.status_code"
   ]
  },
  {
   "cell_type": "code",
   "execution_count": 6,
   "id": "e4d4cfad",
   "metadata": {},
   "outputs": [],
   "source": [
    "import requests\n",
    "\n",
    "cookies = {\n",
    "    '_gcl_au': '1.1.1272215282.1745140524',\n",
    "    'sa-user-id': 's%253A0-7890c4cc-2f81-53b1-4417-dfe1a933e8b1.fSMzh3WpweYLKZ6fJN1gx1B3PDOAezaNpKE6sDZs7u4',\n",
    "    'sa-user-id-v2': 's%253AeJDEzC-BU7FEF9_hqTPosWUAPgM.a4s1iM4F14BY%252BMLeDI%252FO5qzp7Cl4NovYU3G22ZuH%252Fx0',\n",
    "    'sa-user-id-v3': 's%253AAQAKIMTZesO8u62p3UAG8Q_7R76gJMeYYNW1LrJvi7h9os9kEAEYAyCu9pLABjABOgTfnBS-QgTA3ywA.GpVnoarHqxAQlU1BPAWb6yktEbmgnDpAbH3JTCs99DQ',\n",
    "    '_cq_duid': '1.1745140525.GQqq80jU0KXwHv2r',\n",
    "    'CV-Library_Consent': '{\"XFwe\":false,\"YFyF\":false,\"tcf-purposes-1\":false,\"tcf-purposes-3\":false,\"tcf-purposes-5\":false,\"tcf-purposes-9\":false,\"tcf-purposes-10\":false,\"tcf-purposes-4\":false,\"tcf-purposes-2\":false,\"tcf-purposes-7\":false,\"tcf-purposes-6\":false,\"tcf-purposes-8\":false,\"tcf-purposes-11\":false}',\n",
    "    'cf_consent_vendors': '{\"16\":false,\"42\":false,\"120\":false,\"nonTcf-Facebook (Meta) below\":false,\"nonTcf-Force24\":false,\"nonTcf-Job Diagnosis\":false,\"nonTcf-JobG8 CV Registration\":false,\"nonTcf-Joblift\":false,\"nonTcf-Jobrapido\":false,\"nonTcf-Jooble\":false,\"nonTcf-LinkedIn\":false,\"nonTcf-NeuvooUK\":false,\"nonTcf-Ripple\":false,\"nonTcf-Adzuna\":false,\"nonTcf-Appcast\":false,\"nonTcf-Google\":false,\"nonTcf-Hotjar\":false,\"nonTcf-Inc.,Criteo SA\":false,\"nonTcf-Recruitics\":false,\"nonTcf-Reddit\":false,\"nonTcf-Snap Inc.\":false,\"nonTcf-TikTok\":false,\"nonTcf-zeotap GmbH,Onfocus (Adagio)\":false}',\n",
    "    'euconsent-v2': 'CQQKjoAQQKjoAGxABAENBmFAAAAAAAAAAAAAAAAAAAAA.IIzQBQAIAAqADwAvMCMw',\n",
    "    'jobsearch_user_id': '1845875359',\n",
    "    'random_user_id': '62',\n",
    "    '__Host-session': 'ed54b4985d2245b0af07ab72004647d0',\n",
    "    '_pbjs_userid_consent_data': '6842414216061118',\n",
    "    '_lr_env_src_ats': 'false',\n",
    "    'r3sess6876': 'd0cf0a1ca8f7e7a44933ec9677e06c84',\n",
    "    'R3_SESSID_JS': 'e369c96ddff5738f515a51db34cb48e7',\n",
    "    'r3engage': 'true',\n",
    "    'analyticsSearchId': 'm9xurz4a.4ze',\n",
    "    'analyticsSearchIdParams': '|India',\n",
    "    'tempbasket': '1745857582101062196',\n",
    "    'recently_viewed_jobs': '223368506&223368626&223368929&223335786&223374777',\n",
    "    'PSGI-XSRF-Token': 'cdeb691b4051f16de0e0d6c8778453614ee4253c',\n",
    "    'job_search_keyword_boost_variant': '1437019',\n",
    "    '_gid': 'GA1.3.1649662056.1745857584',\n",
    "    '_cq_suid': '1.1745857583.UkOBihrzHtO6nDak',\n",
    "    '_lr_retry_request': 'true',\n",
    "    '__cf_bm': 'JYKUHdzjoiz0U2SLK3AMyLDsz1NS1GmW3bjXn3nvf.w-1745857592-1.0.1.1-g0w3i0X1JXakhDJ3GSdTaUIo8NEO7tjMyHIJQ2ayqIxMSv5c_UcVg6K8MAncN718fbhKjY8FqycEBVfwDiv_Ipl16oYUo.kq7xrRRAxXKJc',\n",
    "    '_rdt_uuid': '1745140524570.106026a5-b036-48b4-af56-ad6adb3c3727',\n",
    "    '_ga_8R43H4HVGM': 'GS1.1.1745857583.6.1.1745857596.47.0.0',\n",
    "    '_ga_WN42TZ6HLQ': 'GS1.1.1745857597.5.0.1745857597.0.0.0',\n",
    "    '_ga': 'GA1.1.738486827.1745140525',\n",
    "    'cto_bundle': '4rF_yF92dlR3VW14WHZjU1FIUCUyQmwlMkJ3alZ0MGFDZVVKb3VGZ2V0WkJGc3QlMkJVWFlFZXklMkJTVnljS2Y4RVBHUjRveU5oc3NBdzBFbkl1TVQ4clZFWXZiUEJSd0UzcXR6R0U1eFJ0TkM3WllYOU0lMkJweWZpRGExRnlndEFJWDJvcEgxVyUyQnJqM3MwWUNFaGtXSSUyQko3S0JRT1lSSnFuNnZZZFNCNkE0V3FMUjNnaWRHckwyQVVaZ2wlMkZBJTJCdHhkODU5MVF1WkFVTVUwb2tJN2MlMkZBV2lUVm5jNG1iSE01Z0cwc0cyWGM2Z2pxZjVMNFpGa3NIJTJCV3VSU2tIMUh6bTNmS3pJdnBMbDN5RjJtQUxpZzEzSDhLRzM0eHRKYlhkdmclM0QlM0Q',\n",
    "    'session': '1745857597.59664%3ABQsDAAAAAA%3D%3D%3A991145cf3c65c2e16fe7eed48adf30d7f869f4bc',\n",
    "}\n",
    "\n",
    "headers = {\n",
    "    'accept': 'text/html,application/xhtml+xml,application/xml;q=0.9,image/avif,image/webp,image/apng,*/*;q=0.8,application/signed-exchange;v=b3;q=0.7',\n",
    "    'accept-language': 'en-GB,en-US;q=0.9,en;q=0.8,hi;q=0.7,kn;q=0.6',\n",
    "    'cache-control': 'max-age=0',\n",
    "    'priority': 'u=0, i',\n",
    "    'sec-ch-ua': '\"Google Chrome\";v=\"135\", \"Not-A.Brand\";v=\"8\", \"Chromium\";v=\"135\"',\n",
    "    'sec-ch-ua-mobile': '?1',\n",
    "    'sec-ch-ua-platform': '\"Android\"',\n",
    "    'sec-fetch-dest': 'document',\n",
    "    'sec-fetch-mode': 'navigate',\n",
    "    'sec-fetch-site': 'none',\n",
    "    'sec-fetch-user': '?1',\n",
    "    'upgrade-insecure-requests': '1',\n",
    "    'user-agent': 'Mozilla/5.0 (Linux; Android 6.0; Nexus 5 Build/MRA58N) AppleWebKit/537.36 (KHTML, like Gecko) Chrome/135.0.0.0 Mobile Safari/537.36',\n",
    "}\n",
    "\n",
    "response = requests.get('https://www.cv-library.co.uk/job/223374777/Geography-Teacher', cookies=cookies, headers=headers)"
   ]
  },
  {
   "cell_type": "code",
   "execution_count": 7,
   "id": "0b4d080b",
   "metadata": {},
   "outputs": [
    {
     "data": {
      "text/plain": [
       "403"
      ]
     },
     "execution_count": 7,
     "metadata": {},
     "output_type": "execute_result"
    }
   ],
   "source": [
    "response.status_code"
   ]
  },
  {
   "cell_type": "code",
   "execution_count": 1,
   "id": "413f6cf1",
   "metadata": {},
   "outputs": [
    {
     "name": "stdout",
     "output_type": "stream",
     "text": [
      "https://www.cv-library.co.uk/job/223402148/Senior-Estimator/\n"
     ]
    }
   ],
   "source": [
    "from urllib.parse import urlparse\n",
    "\n",
    "url = \"https://www.cv-library.co.uk/job/223402148/Senior-Estimator/apply?sid=6b27b84d-ac38-4d44-a67d-2f1023d72795\"\n",
    "\n",
    "# Parse the URL\n",
    "parsed_url = urlparse(url)\n",
    "\n",
    "# Split the path and find the part before '/apply'\n",
    "path_parts = parsed_url.path.split('/')\n",
    "\n",
    "if 'apply' in path_parts:\n",
    "    apply_index = path_parts.index('apply')\n",
    "    # Rebuild the path up to just before 'apply'\n",
    "    new_path = '/'.join(path_parts[:apply_index]) + '/'\n",
    "else:\n",
    "    new_path = parsed_url.path\n",
    "\n",
    "# Reconstruct the final URL\n",
    "final_url = f\"{parsed_url.scheme}://{parsed_url.netloc}{new_path}\"\n",
    "\n",
    "print(final_url)\n"
   ]
  },
  {
   "cell_type": "code",
   "execution_count": 1,
   "id": "a34a31c2",
   "metadata": {},
   "outputs": [],
   "source": [
    "import json\n",
    "from bs4 import BeautifulSoup\n",
    "from rnet import Client, Impersonate\n",
    "\n",
    "async def parse_url(url):\n",
    "    client = Client(impersonate=Impersonate.Firefox136)\n",
    "    resp = await client.get(url)\n",
    "    print(\"Status Code:\", resp.status_code)\n",
    "\n",
    "    content = await resp.text()\n",
    "    soup = BeautifulSoup(content, \"html.parser\")\n",
    "\n",
    "    # description = extract_job_description(content)  # Assuming you already have this function\n",
    "\n",
    "    external_url = url  # default fallback\n",
    "\n",
    "    # Try to find the JSON that includes 'companyApplyUrl'\n",
    "    try:\n",
    "        # Search all <code> tags, sometimes LinkedIn puts JSON in <code> or <script> tags\n",
    "        code_tags = soup.find_all(['code', 'script'])\n",
    "        for tag in code_tags:\n",
    "            if tag.string and 'companyApplyUrl' in tag.string:\n",
    "                data = tag.string\n",
    "                data = data.replace('&quot;', '\"')  # replace HTML encoded quotes\n",
    "                try:\n",
    "                    json_data = json.loads(data)\n",
    "                    external_url = json_data.get('applyMethod', {}).get('companyApplyUrl', url)\n",
    "                    break\n",
    "                except json.JSONDecodeError:\n",
    "                    continue\n",
    "    except Exception as e:\n",
    "        print(\"Error while parsing external URL:\", str(e))\n",
    "\n",
    "    print(external_url)\n",
    "    await client.aclose()\n"
   ]
  },
  {
   "cell_type": "code",
   "execution_count": null,
   "id": "5eec9bfe",
   "metadata": {},
   "outputs": [],
   "source": []
  }
 ],
 "metadata": {
  "kernelspec": {
   "display_name": "venv",
   "language": "python",
   "name": "python3"
  },
  "language_info": {
   "codemirror_mode": {
    "name": "ipython",
    "version": 3
   },
   "file_extension": ".py",
   "mimetype": "text/x-python",
   "name": "python",
   "nbconvert_exporter": "python",
   "pygments_lexer": "ipython3",
   "version": "3.12.4"
  }
 },
 "nbformat": 4,
 "nbformat_minor": 5
}
